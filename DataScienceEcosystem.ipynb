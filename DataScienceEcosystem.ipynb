{
 "cells": [
  {
   "cell_type": "markdown",
   "id": "11b343b3-b046-48d1-91bf-4eba8a697eb1",
   "metadata": {},
   "source": [
    "# Data Science Tools And Ecosystem"
   ]
  },
  {
   "cell_type": "markdown",
   "id": "714c551d-76aa-4d02-8970-cc46867b080d",
   "metadata": {},
   "source": [
    "In this notebook, Data Science Tools and Ecosystem are summarized."
   ]
  },
  {
   "cell_type": "markdown",
   "id": "4c9f220d-02ed-48d6-a528-e629e4c6faf1",
   "metadata": {},
   "source": [
    "**Objectives:**\n",
    "- List popular languages for Data Science\n",
    "- Commonly used libraries used by Data Scientists\n",
    "- Opensource Development environments for Data Science"
   ]
  },
  {
   "cell_type": "markdown",
   "id": "efce210a-257b-4dba-aeb6-c6466d8b349c",
   "metadata": {},
   "source": [
    "Some of the popular languages that Data Scientists use are:\n",
    "1. python\n",
    "2. R\n",
    "3. SQL\n",
    "4. Java"
   ]
  },
  {
   "cell_type": "markdown",
   "id": "8210cd8d-b3be-432d-a16f-b360a0aa3483",
   "metadata": {},
   "source": [
    "Some of the commonly used libraries used by Data Scientists include:\n",
    "1. Pandas\n",
    "2. Numpy\n",
    "3. Sci-kitlearn\n",
    "4. Matplotlib"
   ]
  },
  {
   "cell_type": "markdown",
   "id": "c6ae0b84-f896-43a5-8839-c6118ef57152",
   "metadata": {},
   "source": [
    "| Data Science Tools|\n",
    "|-------------------|\n",
    "| Jupyter NoteBooks|\n",
    "| RStudio|\n",
    "| Zeppelin Notebooks|\n"
   ]
  },
  {
   "cell_type": "markdown",
   "id": "8b613c00-0557-4e9e-b075-ab647684b830",
   "metadata": {},
   "source": [
    "### Below are a few examples of evaluating arithmetic expressions in Python"
   ]
  },
  {
   "cell_type": "code",
   "execution_count": 1,
   "id": "30fc5f27-d109-46d3-9a3d-772fb719c31b",
   "metadata": {},
   "outputs": [
    {
     "data": {
      "text/plain": [
       "17"
      ]
     },
     "execution_count": 1,
     "metadata": {},
     "output_type": "execute_result"
    }
   ],
   "source": [
    "# This a simple arithmetic expression to mutiply then add integers\n",
    "(3*4)+5"
   ]
  },
  {
   "cell_type": "code",
   "execution_count": 3,
   "id": "b5aa9af3-b91e-4e0c-a68f-f9fcbc80f367",
   "metadata": {},
   "outputs": [
    {
     "name": "stdout",
     "output_type": "stream",
     "text": [
      "3.3333333333333335\n"
     ]
    }
   ],
   "source": [
    "# This will convert 200 minutes to hours by diving by 60\n",
    "mins= 200\n",
    "hrs= mins/60\n",
    "print (hrs)\n"
   ]
  },
  {
   "cell_type": "markdown",
   "id": "4ea9f1e8-19f5-4b06-836a-1f0861a3359e",
   "metadata": {},
   "source": [
    "## Author\n",
    "Murtaza Vepari\n"
   ]
  },
  {
   "cell_type": "code",
   "execution_count": null,
   "id": "0ada1eeb-fc11-4b87-9c3c-d48800b3a7d9",
   "metadata": {},
   "outputs": [],
   "source": []
  }
 ],
 "metadata": {
  "kernelspec": {
   "display_name": "Python 3 (ipykernel)",
   "language": "python",
   "name": "python3"
  },
  "language_info": {
   "codemirror_mode": {
    "name": "ipython",
    "version": 3
   },
   "file_extension": ".py",
   "mimetype": "text/x-python",
   "name": "python",
   "nbconvert_exporter": "python",
   "pygments_lexer": "ipython3",
   "version": "3.11.7"
  }
 },
 "nbformat": 4,
 "nbformat_minor": 5
}
